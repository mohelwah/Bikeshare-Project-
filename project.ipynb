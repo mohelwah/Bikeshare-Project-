{
 "cells": [
  {
   "cell_type": "markdown",
   "id": "5251328f",
   "metadata": {},
   "source": [
    "# Bike Share Data:\n",
    "* The Datasets\n",
    "Randomly selected data for the first six months of 2017 are provided for all three cities. All three of the data files contain the same core six (6) columns:\n",
    "•\tStart Time (e.g., 2017-01-01 00:07:57)\n",
    "•\tEnd Time (e.g., 2017-01-01 00:20:53)\n",
    "•\tTrip Duration (in seconds - e.g., 776)\n",
    "•\tStart Station (e.g., Broadway & Barry Ave)\n",
    "•\tEnd Station (e.g., Sedgwick St & North Ave)\n",
    "•\tUser Type (Subscriber or Customer)\n",
    "The Chicago and New York City files also have the following two columns:\n",
    "•\tGender\n",
    "•\tBirth Year\n"
   ]
  },
  {
   "cell_type": "markdown",
   "id": "43f7d8ec",
   "metadata": {},
   "source": [
    "1- Statistics Computed:\n",
    "    #1 Popular times of travel (i.e., occurs most often in the start time)\n",
    "•\tmost common month\n",
    "•\tmost common day of week\n",
    "•\tmost common hour of day\n",
    "#2 Popular stations and trip\n",
    "•\tmost common start station\n",
    "•\tmost common end station\n",
    "•\tmost common trip from start to end (i.e., most frequent combination of start station and end station)\n",
    "#3 Trip duration\n",
    "•\ttotal travel time\n",
    "•\taverage travel time\n",
    "#4 User info\n",
    "•\tcounts of each user type\n",
    "•\tcounts of each gender (only available for NYC and Chicago)\n",
    "•\tearliest, most recent, most common year of birth (only available for NYC and Chicago)\n"
   ]
  },
  {
   "cell_type": "markdown",
   "id": "cfe64bb2",
   "metadata": {},
   "source": [
    "The Files:\n",
    "dataset files \n",
    "•\tchicago.csv\n",
    "•\tnew_york_city.csv\n",
    "•\twashington.csv\n"
   ]
  },
  {
   "cell_type": "markdown",
   "id": "acf845b8",
   "metadata": {},
   "source": [
    "# 3: Load and Filter the Dataset"
   ]
  },
  {
   "cell_type": "markdown",
   "id": "1333db73",
   "metadata": {},
   "source": [
    "1.\tLoad the dataset for the specified city. Index the global CITY_DATA dictionary object to get the corresponding filename for the given city name.\n",
    "2.\tCreate month and day_of_week columns. Convert the \"Start Time\" column to datetime and extract the month number and weekday name into separate columns using the datetime module.\n",
    "3.\tFilter by month. Since the month parameter is given as the name of the month, you'll need to first convert this to the corresponding month number. Then, select rows of the dataframe that have the specified month and reassign this as the new dataframe.\n",
    "4.\tFilter by day of week. Select rows of the dataframe that have the specified day of week and reassign this as the new dataframe. (Note: Capitalize the day parameter with the title() method to match the title case used in the day_of_week column!)\n"
   ]
  },
  {
   "cell_type": "markdown",
   "id": "59d5089c",
   "metadata": {},
   "source": [
    "# the project"
   ]
  },
  {
   "cell_type": "code",
   "execution_count": 2,
   "id": "2bb63ad6",
   "metadata": {},
   "outputs": [],
   "source": [
    "import time\n",
    "import pandas as pd\n",
    "import numpy as np"
   ]
  },
  {
   "cell_type": "code",
   "execution_count": 3,
   "id": "f3d1bbe7",
   "metadata": {},
   "outputs": [],
   "source": [
    "city_dict = {'chicago': 'chicago.csv',\n",
    "              'new york city': 'new_york_city.csv',\n",
    "              'washington': 'washington.csv'}\n",
    "\n",
    "month_list = ['all', 'january', 'february', 'march', 'april', 'may', 'june']\n",
    "\n",
    "day_list = ['all', 'monday', 'tuesday', 'wednesday', 'friday', 'saturday', 'sunday']"
   ]
  },
  {
   "cell_type": "markdown",
   "id": "2eb62b15",
   "metadata": {},
   "source": [
    "###### get_filters function: \n",
    "user to specify a city, month, and day to analyze\n",
    "\n",
    "to take input from use in loop way:\n",
    "- make a dictionary for input value\n",
    "- user_input = make a string to recive the input as blank\n",
    "- while loop over user_input.lower (Cond: not in dict_input)\n",
    "- user_input = input('') method\n",
    "- check by if (user_input.lower() in dict) -- add to dict then break, else print(massage)\n",
    "- loop will continue\n"
   ]
  },
  {
   "cell_type": "code",
   "execution_count": null,
   "id": "79900efb",
   "metadata": {},
   "outputs": [],
   "source": [
    "def get_filters():\n",
    "    \"\"\"\n",
    "    Asks user to specify a city, month, and day to analyze.\n",
    "\n",
    "    Returns:\n",
    "        (str) city - name of the city to analyze\n",
    "        (str) month - name of the month to filter by, or \"all\" to apply no month filter\n",
    "        (str) day - name of the day of week to filter by, or \"all\" to apply no day filter\n",
    "    \"\"\"\n",
    "    print('Hello! Let\\'s explore some US bikeshare data!')\n",
    "    #  get user input for city (chicago, new york city, washington). HINT: Use a while loop to handle invalid inputs\n",
    "    city_name = ''\n",
    "    while city_name.lower() not in city_dict:\n",
    "        city_name = input(\"\\nWhoud you like to analyse data for: \\n 1- Chicago \\n 2- New york city\\n 3- Washington\\n Enter Your choise: \")\n",
    "        if city_name.lower() in city_dict:\n",
    "            city = city_dict[city_name.lower()]\n",
    "        else:\n",
    "            print(\"Error, please select a correct option from above\\n\")\n",
    "\n",
    "    #  get user input for month (all, january, february, ... , june)\n",
    "    month_name = ''\n",
    "    while month_name.lower() not in month_list:\n",
    "        print('\\nWhat is the name of the month to filter data?')\n",
    "        for month in month_list:\n",
    "            print('- ', month)\n",
    "        month_name = input(\"Enter your choice: \")\n",
    "        if month_name.lower() in month_list:\n",
    "            #set the month value\n",
    "            month = month_name.lower()\n",
    "        else:\n",
    "             # print error\n",
    "            print(\"Error, please select a correct option from above\\n\")\n",
    "\n",
    "    # get user input for day of week (all, monday, tuesday, ... sunday)\n",
    "    day_name = ''\n",
    "    while day_name.lower() not in day_list:\n",
    "        print('\\nWhat is the name of the day to filter data?')\n",
    "        for day in day_list:\n",
    "            print('- ', day)\n",
    "        day_name = input(\"Enter your choice: \")\n",
    "        if day_name.lower() in day_list:\n",
    "            day = day_name.lower()\n",
    "        else:\n",
    "            #Error\n",
    "            print(\"Error, please select a correct option from above\\n\")\n",
    "\n",
    "    print('-'*40)\n",
    "    return city, month, day"
   ]
  },
  {
   "cell_type": "markdown",
   "id": "88cf321d",
   "metadata": {},
   "source": [
    "### Load data Function:\n",
    "Loads data for the specified city and filters by month and day if applicable\n",
    "#### trick in it:\n",
    "1- convert column 'Start time' from object to datetime object BY using pd.to_datetime function\n",
    "\n",
    "2- make a new column for 'month' from column 'Start time' by .dt.month\n",
    "\n",
    "3- make a new column for day_of_week from column 'Start time' by .dt.weekday_name\n",
    "\n",
    "4- make a new column for hour from column 'Start time' by .dt.hour\n",
    "\n",
    "#### apply filter to data:\n",
    "1- made a filter using month , day\n",
    "\n",
    "2- check user_select for month if not all by cond: != 'all'\n",
    "\n",
    "2- get the month in form of number, from month_list by month_list.index(month)\n",
    "\n",
    "3- return df for selcting by using loc function , indexd Cond:df['month'] == month\n",
    "do the same for day filter\n",
    "\n"
   ]
  },
  {
   "cell_type": "code",
   "execution_count": null,
   "id": "497a7e7c",
   "metadata": {},
   "outputs": [],
   "source": [
    "def load_data(city, month, day):\n",
    "    \"\"\"\n",
    "    Loads data for the specified city and filters by month and day if applicable.\n",
    "\n",
    "    Args:\n",
    "        (str) city - name of the city to analyze\n",
    "        (str) month - name of the month to filter by, or \"all\" to apply no month filter\n",
    "        (str) day - name of the day of week to filter by, or \"all\" to apply no day filter\n",
    "    Returns:\n",
    "        df - Pandas DataFrame containing city data filtered by month and day\n",
    "    \"\"\"\n",
    "    df = pd.read_csv(city)\n",
    "    #convert start time from object to datetime\n",
    "    df['Start Time'] = pd.to_datetime(df['Start Time'])\n",
    "    df['month'] = df['Start Time'].dt.month\n",
    "    df['day_of_week'] = df['Start Time'].dt.weekday_name\n",
    "    df['hour'] = df['Start Time'].dt.hour\n",
    "\n",
    "    # made a filter using month\n",
    "    if month != 'all':\n",
    "        month = month_list.index(month)\n",
    "        df = df.loc[df['month'] == month]\n",
    "\n",
    "    # filter by day of week if applicable\n",
    "    if day != 'all':\n",
    "        df = df.loc[df['day_of_week'] == day.title()]\n",
    "\n",
    "    return df\n"
   ]
  },
  {
   "cell_type": "markdown",
   "id": "fba30b56",
   "metadata": {},
   "source": [
    "### Time statics:\n",
    "Displays statistics on the most frequent times of travel.\n",
    "#### Trick note:\n",
    "1- mode()[0] : apply to column to find the most common of it.\n",
    "\n",
    "2- groupby method: apply to df to find most common in two columns\n"
   ]
  },
  {
   "cell_type": "code",
   "execution_count": null,
   "id": "b36df95b",
   "metadata": {},
   "outputs": [],
   "source": [
    "def time_stats(df,month_list=month_list):\n",
    "    \"\"\"Displays statistics on the most frequent times of travel.\"\"\"\n",
    "\n",
    "    print('\\nCalculating The Most Frequent Times of Travel...\\n')\n",
    "    start_time = time.time()\n",
    "    df['Start Time'] = pd.to_datetime(df['Start Time'])\n",
    "\n",
    "    # display the most common month\n",
    "    df['month'] =df['Start Time'].dt.month\n",
    "    popular_month_index = int(df['month'].mode()[0])\n",
    "    print('Most Frequent common month:', month_list[popular_month_index])\n",
    "\n",
    "\n",
    "    #   display the most common day of week\n",
    "    df['day'] =df['Start Time'].dt.weekday_name\n",
    "    popular_day = df['day'].mode()[0]\n",
    "    print('Most Frequent day of week:', popular_day)\n",
    "\n",
    "\n",
    "    #   display the most common start hour\n",
    "    df['hour'] =df['Start Time'].dt.hour\n",
    "    popular_hour = df['hour'].mode()[0]\n",
    "    print('Most Frequent Start Hour:', popular_hour)\n",
    "\n",
    "    print(\"\\nThis took %s seconds.\" % (time.time() - start_time))\n",
    "    print('-'*40)\n"
   ]
  },
  {
   "cell_type": "markdown",
   "id": "2f7b18e1",
   "metadata": {},
   "source": [
    "### Station statics :\n",
    "Displays statistics on the most popular stations and trip\n",
    "\n",
    "#### Tick nootes:\n",
    "1- apply to df to find most common in two columns\n",
    "\n",
    "   df.groupby(['Start Station', 'End Station']).size().idxmax()\n",
    "   \n",
    "2- by mode method:\n",
    "\n",
    "(df['Start Station'] + \",\" + df['End Station']).mode()[0]"
   ]
  },
  {
   "cell_type": "code",
   "execution_count": null,
   "id": "7739350f",
   "metadata": {},
   "outputs": [],
   "source": [
    "def station_stats(df):\n",
    "    \"\"\"Displays statistics on the most popular stations and trip.\"\"\"\n",
    "\n",
    "    print('\\nCalculating The Most Popular Stations and Trip...\\n')\n",
    "    start_time = time.time()\n",
    "\n",
    "\n",
    "    start_station = df['Start Station'].mode()[0]\n",
    "    print('most commonly used start station: {}'.format(start_station))\n",
    "\n",
    "    #   display most commonly used end station\n",
    "    end_station = df['End Station'].mode()[0]\n",
    "    print('most commonly used end station: {}'.format(end_station))\n",
    "\n",
    "    #   display most frequent combination of start station and end station trip\n",
    "#    freq_combination = (df['Start Station'] + \",\" + df['End Station']).mode()[0]\n",
    "#    print(\"The most frequent combination of start station and end station trip is : \" + str(freq_combination.split(\",\")))\n",
    "    # Another good code for commbination of start and end station\n",
    "    most_popular_trip = df.groupby(['Start Station', 'End Station']).size().idxmax()\n",
    "    print(\"The most frequent combination of start station and end station trip is : \" + str(most_popular_trip))\n",
    "    print(\"\\nThis took %s seconds.\" % (time.time() - start_time))\n",
    "    print('-'*40)\n"
   ]
  },
  {
   "cell_type": "markdown",
   "id": "416eec5f",
   "metadata": {},
   "source": [
    "### user_stats funtion"
   ]
  },
  {
   "cell_type": "code",
   "execution_count": null,
   "id": "58494df2",
   "metadata": {},
   "outputs": [],
   "source": [
    "def user_stats(df,city):\n",
    "    \"\"\"Displays statistics on bikeshare users.\"\"\"\n",
    "\n",
    "    print('\\nCalculating User Stats...\\n')\n",
    "    start_time = time.time()\n",
    "\n",
    "    #   Display counts of user types User Type\n",
    "    print('The count of user types',df['User Type'].value_counts())\n",
    "\n",
    "\n",
    "\n",
    "    #   Display earliest, most recent, and most common year of birth\n",
    "    if city == 'chicago.csv' or city == 'new_york_city.csv':\n",
    "    #   Display counts of gender\n",
    "        print(df['Gender'].value_counts())\n",
    "        earliest = df['Birth Year'].min()\n",
    "        recent = df['Birth Year'].max()\n",
    "        most_common = df['Birth Year'].mode()[0]\n",
    "\n",
    "        print('Earlist year of birth is: {}'.format(earliest))\n",
    "        print('most recent year of birth is: {}'.format(recent))\n",
    "        print('most common year of birth is: {}'.format(most_common))\n",
    "\n",
    "        print(\"\\nThis took %s seconds.\" % (time.time() - start_time))\n",
    "        print('-'*40)"
   ]
  },
  {
   "cell_type": "markdown",
   "id": "fc803d24",
   "metadata": {},
   "source": [
    "### display_raw_data"
   ]
  },
  {
   "cell_type": "code",
   "execution_count": null,
   "id": "869127fe",
   "metadata": {},
   "outputs": [],
   "source": [
    "def display_raw_data(df):\n",
    "    \"\"\"Displays data head request.\n",
    "\n",
    "    Input:\n",
    "        (DataFrame) df - Pandas DataFrame containing city data filtered by month and day\n",
    "    Return:\n",
    "         Print DataFrame Head\n",
    "    \"\"\"\n",
    "    print(df.head())\n",
    "    next = 0\n",
    "    while True:\n",
    "        view_raw_data = input('\\nwould you like to view next five row of raw data? Enter: yes | no.\\n')\n",
    "        if view_raw_data.lower() != 'yes':\n",
    "            return\n",
    "        next = next + 5\n",
    "        print(df.iloc[next:next+5])"
   ]
  },
  {
   "cell_type": "markdown",
   "id": "e36ddbe4",
   "metadata": {},
   "source": [
    "## main"
   ]
  },
  {
   "cell_type": "code",
   "execution_count": null,
   "id": "eb1283ff",
   "metadata": {},
   "outputs": [],
   "source": [
    "def main():\n",
    "    while True:\n",
    "        city, month, day = get_filters()\n",
    "        df = load_data(city, month, day)\n",
    "\n",
    "        time_stats(df)\n",
    "        station_stats(df)\n",
    "        trip_duration_stats(df)\n",
    "        user_stats(df,city)\n",
    "        while True:\n",
    "            view_raw_data = input('\\nwould you like to view first 5 row of data? Enter: yes | no.\\n')\n",
    "            if view_raw_data.lower() != 'yes':\n",
    "                break\n",
    "            display_raw_data(df)\n",
    "            break\n",
    "\n",
    "        restart = input('\\nWould you like to restart? Enter: yes | no.\\n')\n",
    "        if restart.lower() != 'yes':\n",
    "            break\n",
    "\n",
    "\n",
    "if __name__ == \"__main__\":\n",
    "\tmain()\n"
   ]
  }
 ],
 "metadata": {
  "kernelspec": {
   "display_name": "Python 3",
   "language": "python",
   "name": "python3"
  },
  "language_info": {
   "codemirror_mode": {
    "name": "ipython",
    "version": 3
   },
   "file_extension": ".py",
   "mimetype": "text/x-python",
   "name": "python",
   "nbconvert_exporter": "python",
   "pygments_lexer": "ipython3",
   "version": "3.8.8"
  }
 },
 "nbformat": 4,
 "nbformat_minor": 5
}
